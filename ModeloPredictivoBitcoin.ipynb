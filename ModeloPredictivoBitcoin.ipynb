{
  "cells": [
    {
      "cell_type": "markdown",
      "source": [
        "# **Modelo Predictivo de Bitcoin**"
      ],
      "metadata": {
        "id": "W4EYsn04ZvMn"
      },
      "id": "W4EYsn04ZvMn"
    },
    {
      "cell_type": "markdown",
      "id": "7561903f",
      "metadata": {
        "id": "7561903f"
      },
      "source": [
        "## Importando Librerias\n",
        "\n",
        "\n",
        "\n"
      ]
    },
    {
      "cell_type": "code",
      "execution_count": null,
      "id": "96a3c5ef",
      "metadata": {
        "id": "96a3c5ef"
      },
      "outputs": [],
      "source": [
        "import pandas as pd\n",
        "import numpy as np\n",
        "import matplotlib.pyplot as plt\n",
        "import seaborn as sns"
      ]
    },
    {
      "cell_type": "markdown",
      "id": "a4e6b859",
      "metadata": {
        "id": "a4e6b859"
      },
      "source": [
        "## Lectura del DataFrame\n",
        "\n",
        "Saca de los comentarios la opción que prefieras."
      ]
    },
    {
      "cell_type": "markdown",
      "source": [
        "### **Opción 1:**\n",
        "Ingresar por medio de Kagglehub. Esto es posible si obtienes las credenciales desde las opciones de Kaggle y las ingresas al momento de ejecutarlo las siguientes líneas de código comentareadas."
      ],
      "metadata": {
        "id": "Rhd5tHscJWf9"
      },
      "id": "Rhd5tHscJWf9"
    },
    {
      "cell_type": "code",
      "source": [
        "!pip install kagglehub"
      ],
      "metadata": {
        "collapsed": true,
        "id": "1afLUWMfk9Pm"
      },
      "id": "1afLUWMfk9Pm",
      "execution_count": null,
      "outputs": []
    },
    {
      "cell_type": "markdown",
      "source": [
        "**Credenciales:**\n",
        "\n",
        "User: susanarost\n",
        "\n",
        "key: 9633ccec6d40619257a4dbb2caf98970"
      ],
      "metadata": {
        "id": "e_wgBLfYKDim"
      },
      "id": "e_wgBLfYKDim"
    },
    {
      "cell_type": "code",
      "source": [
        "\"\"\"\n",
        "import kagglehub\n",
        "kagglehub.login()\n",
        "\"\"\""
      ],
      "metadata": {
        "id": "9ULXhtLZkeS8"
      },
      "id": "9ULXhtLZkeS8",
      "execution_count": null,
      "outputs": []
    },
    {
      "cell_type": "code",
      "source": [
        "path = kagglehub.dataset_download(\"mczielinski/bitcoin-historical-data/versions/282\") #Aclaramos la versión a la que nos interesa acceder\n",
        "print(\"Path to dataset files:\", path)"
      ],
      "metadata": {
        "id": "sukWf0LiGIIk"
      },
      "id": "sukWf0LiGIIk",
      "execution_count": null,
      "outputs": []
    },
    {
      "cell_type": "code",
      "source": [
        "df_original = pd.read_csv(\"/kaggle/input/bitcoin-historical-data/btcusd_1-min_data.csv\")\n",
        "df = df_original.copy()\n",
        "df"
      ],
      "metadata": {
        "id": "ZSvZM_VxJnSs"
      },
      "id": "ZSvZM_VxJnSs",
      "execution_count": null,
      "outputs": []
    },
    {
      "cell_type": "markdown",
      "source": [
        "### **Opción 2:**\n",
        "Manera Tradicional de importar el dataset\n"
      ],
      "metadata": {
        "id": "Vx4_cKmjI5uc"
      },
      "id": "Vx4_cKmjI5uc"
    },
    {
      "cell_type": "code",
      "execution_count": null,
      "id": "0b0391c8",
      "metadata": {
        "id": "0b0391c8"
      },
      "outputs": [],
      "source": [
        "#df_original = pd.read_csv(\"\")\n",
        "#df = df_original.copy()\n",
        "#df"
      ]
    },
    {
      "cell_type": "markdown",
      "id": "f1447b3a",
      "metadata": {
        "id": "f1447b3a"
      },
      "source": [
        "## Análisis exploratorio de los datos"
      ]
    },
    {
      "cell_type": "code",
      "execution_count": null,
      "id": "5c2a9564",
      "metadata": {
        "id": "5c2a9564",
        "collapsed": true
      },
      "outputs": [],
      "source": [
        "#Verificando cantidad de datos nulos\n",
        "df.isnull().sum()"
      ]
    },
    {
      "cell_type": "code",
      "execution_count": null,
      "id": "edcf0803",
      "metadata": {
        "id": "edcf0803"
      },
      "outputs": [],
      "source": [
        "# Descripcion Estadistica\n",
        "df.describe()"
      ]
    },
    {
      "cell_type": "code",
      "execution_count": null,
      "id": "bd6ea75f",
      "metadata": {
        "id": "bd6ea75f"
      },
      "outputs": [],
      "source": [
        "# Columnas del dataset\n",
        "df.columns"
      ]
    },
    {
      "cell_type": "code",
      "execution_count": null,
      "id": "785a7962",
      "metadata": {
        "id": "785a7962"
      },
      "outputs": [],
      "source": [
        "# Tamaño del dataset\n",
        "df.shape"
      ]
    },
    {
      "cell_type": "code",
      "execution_count": null,
      "id": "857aaf42",
      "metadata": {
        "id": "857aaf42"
      },
      "outputs": [],
      "source": [
        "\n",
        "df.info()"
      ]
    },
    {
      "cell_type": "markdown",
      "id": "84d738ff",
      "metadata": {
        "id": "84d738ff"
      },
      "source": [
        "### Conversión de datos a datetime"
      ]
    },
    {
      "cell_type": "code",
      "execution_count": null,
      "id": "5aa850fa",
      "metadata": {
        "id": "5aa850fa"
      },
      "outputs": [],
      "source": [
        "df[\"Datetime\"] = pd.to_datetime(df[\"Timestamp\"], unit=\"s\")\n",
        "df[\"Date\"] = df[\"Datetime\"].dt.date\n",
        "\n",
        "df.info()\n"
      ]
    },
    {
      "cell_type": "code",
      "execution_count": null,
      "id": "833e8ddc",
      "metadata": {
        "id": "833e8ddc"
      },
      "outputs": [],
      "source": [
        "df"
      ]
    },
    {
      "cell_type": "markdown",
      "id": "5a288b2c",
      "metadata": {
        "id": "5a288b2c"
      },
      "source": [
        "### Reducciendo columnas y agrupando por día"
      ]
    },
    {
      "cell_type": "code",
      "execution_count": null,
      "id": "335e7aff",
      "metadata": {
        "id": "335e7aff"
      },
      "outputs": [],
      "source": [
        "df_diario = df.groupby(\"Date\")[[\"Open\", \"High\", \"Low\", \"Close\"]].mean()\n",
        "df_diario[\"Volume\"] = df.groupby(\"Date\")[\"Volume\"].sum()\n",
        "df_diario"
      ]
    },
    {
      "cell_type": "markdown",
      "id": "f990ed67",
      "metadata": {
        "id": "f990ed67"
      },
      "source": [
        "## Graficos para entender el Dataset"
      ]
    },
    {
      "cell_type": "code",
      "execution_count": null,
      "id": "5cc9aeb6",
      "metadata": {
        "id": "5cc9aeb6"
      },
      "outputs": [],
      "source": [
        "plt.figure(figsize=(12, 5))\n",
        "sns.lineplot(data=df_diario, x=df_diario.index, y=\"Close\")\n",
        "\n",
        "plt.title(\"Precio de Cierre del Bitcoin a través del tiempo\")\n",
        "plt.xlabel(\"Fecha\")\n",
        "plt.ylabel(\"Precio de cierre (USD)\")\n",
        "plt.tight_layout()\n",
        "plt.show()"
      ]
    }
  ],
  "metadata": {
    "kernelspec": {
      "display_name": "Python 3",
      "language": "python",
      "name": "python3"
    },
    "language_info": {
      "codemirror_mode": {
        "name": "ipython",
        "version": 3
      },
      "file_extension": ".py",
      "mimetype": "text/x-python",
      "name": "python",
      "nbconvert_exporter": "python",
      "pygments_lexer": "ipython3",
      "version": "3.12.7"
    },
    "colab": {
      "provenance": []
    }
  },
  "nbformat": 4,
  "nbformat_minor": 5
}