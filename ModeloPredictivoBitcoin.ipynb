{
  "cells": [
    {
      "cell_type": "markdown",
      "id": "W4EYsn04ZvMn",
      "metadata": {
        "id": "W4EYsn04ZvMn"
      },
      "source": [
        "# **Modelo Predictivo de Bitcoin**"
      ]
    },
    {
      "cell_type": "markdown",
      "id": "7561903f",
      "metadata": {
        "id": "7561903f"
      },
      "source": [
        "## Importando Librerias\n",
        "\n",
        "\n",
        "\n"
      ]
    },
    {
      "cell_type": "code",
      "execution_count": 41,
      "id": "96a3c5ef",
      "metadata": {
        "id": "96a3c5ef"
      },
      "outputs": [],
      "source": [
        "import pandas as pd\n",
        "import numpy as np\n",
        "import matplotlib.pyplot as plt\n",
        "import seaborn as sns\n",
        "import datetime as dt"
      ]
    },
    {
      "cell_type": "markdown",
      "id": "a4e6b859",
      "metadata": {
        "id": "a4e6b859"
      },
      "source": [
        "## Lectura del DataFrame\n",
        "\n",
        "Saca de los comentarios la opción que prefieras."
      ]
    },
    {
      "cell_type": "markdown",
      "id": "Rhd5tHscJWf9",
      "metadata": {
        "id": "Rhd5tHscJWf9"
      },
      "source": [
        "### **Opción 1:**\n",
        "Ingresar por medio de Kagglehub. Esto es posible si obtienes las credenciales desde las opciones de Kaggle y las ingresas al momento de ejecutarlo las siguientes líneas de código comentareadas."
      ]
    },
    {
      "cell_type": "code",
      "execution_count": null,
      "id": "1afLUWMfk9Pm",
      "metadata": {
        "collapsed": true,
        "id": "1afLUWMfk9Pm"
      },
      "outputs": [],
      "source": [
        "!pip install kagglehub"
      ]
    },
    {
      "cell_type": "markdown",
      "id": "e_wgBLfYKDim",
      "metadata": {
        "id": "e_wgBLfYKDim"
      },
      "source": [
        "**Credenciales:**\n",
        "\n",
        "User: susanarost\n",
        "\n",
        "key: 9633ccec6d40619257a4dbb2caf98970"
      ]
    },
    {
      "cell_type": "code",
      "execution_count": 3,
      "id": "9ULXhtLZkeS8",
      "metadata": {
        "id": "9ULXhtLZkeS8"
      },
      "outputs": [
        {
          "data": {
            "application/vnd.jupyter.widget-view+json": {
              "model_id": "2eedc6d70596458685567685f5519fc3",
              "version_major": 2,
              "version_minor": 0
            },
            "text/plain": [
              "VBox(children=(HTML(value='<center> <img\\nsrc=https://www.kaggle.com/static/images/site-logo.png\\nalt=\\'Kaggle…"
            ]
          },
          "metadata": {},
          "output_type": "display_data"
        }
      ],
      "source": [
        "import kagglehub\n",
        "kagglehub.login()"
      ]
    },
    {
      "cell_type": "code",
      "execution_count": 4,
      "id": "sukWf0LiGIIk",
      "metadata": {
        "id": "sukWf0LiGIIk"
      },
      "outputs": [
        {
          "name": "stdout",
          "output_type": "stream",
          "text": [
            "Path to dataset files: C:\\Users\\davie\\.cache\\kagglehub\\datasets\\mczielinski\\bitcoin-historical-data\\versions\\282\n"
          ]
        }
      ],
      "source": [
        "path = kagglehub.dataset_download(\"mczielinski/bitcoin-historical-data/versions/282\") #Aclaramos la versión a la que nos interesa acceder\n",
        "print(\"Path to dataset files:\", path)"
      ]
    },
    {
      "cell_type": "code",
      "execution_count": null,
      "id": "ZSvZM_VxJnSs",
      "metadata": {
        "id": "ZSvZM_VxJnSs"
      },
      "outputs": [
        {
          "data": {
            "text/html": [
              "<div>\n",
              "<style scoped>\n",
              "    .dataframe tbody tr th:only-of-type {\n",
              "        vertical-align: middle;\n",
              "    }\n",
              "\n",
              "    .dataframe tbody tr th {\n",
              "        vertical-align: top;\n",
              "    }\n",
              "\n",
              "    .dataframe thead th {\n",
              "        text-align: right;\n",
              "    }\n",
              "</style>\n",
              "<table border=\"1\" class=\"dataframe\">\n",
              "  <thead>\n",
              "    <tr style=\"text-align: right;\">\n",
              "      <th></th>\n",
              "      <th>Timestamp</th>\n",
              "      <th>Open</th>\n",
              "      <th>High</th>\n",
              "      <th>Low</th>\n",
              "      <th>Close</th>\n",
              "      <th>Volume</th>\n",
              "    </tr>\n",
              "  </thead>\n",
              "  <tbody>\n",
              "    <tr>\n",
              "      <th>0</th>\n",
              "      <td>1.325412e+09</td>\n",
              "      <td>4.58</td>\n",
              "      <td>4.58</td>\n",
              "      <td>4.58</td>\n",
              "      <td>4.58</td>\n",
              "      <td>0.000000</td>\n",
              "    </tr>\n",
              "    <tr>\n",
              "      <th>1</th>\n",
              "      <td>1.325412e+09</td>\n",
              "      <td>4.58</td>\n",
              "      <td>4.58</td>\n",
              "      <td>4.58</td>\n",
              "      <td>4.58</td>\n",
              "      <td>0.000000</td>\n",
              "    </tr>\n",
              "    <tr>\n",
              "      <th>2</th>\n",
              "      <td>1.325412e+09</td>\n",
              "      <td>4.58</td>\n",
              "      <td>4.58</td>\n",
              "      <td>4.58</td>\n",
              "      <td>4.58</td>\n",
              "      <td>0.000000</td>\n",
              "    </tr>\n",
              "    <tr>\n",
              "      <th>3</th>\n",
              "      <td>1.325412e+09</td>\n",
              "      <td>4.58</td>\n",
              "      <td>4.58</td>\n",
              "      <td>4.58</td>\n",
              "      <td>4.58</td>\n",
              "      <td>0.000000</td>\n",
              "    </tr>\n",
              "    <tr>\n",
              "      <th>4</th>\n",
              "      <td>1.325412e+09</td>\n",
              "      <td>4.58</td>\n",
              "      <td>4.58</td>\n",
              "      <td>4.58</td>\n",
              "      <td>4.58</td>\n",
              "      <td>0.000000</td>\n",
              "    </tr>\n",
              "    <tr>\n",
              "      <th>...</th>\n",
              "      <td>...</td>\n",
              "      <td>...</td>\n",
              "      <td>...</td>\n",
              "      <td>...</td>\n",
              "      <td>...</td>\n",
              "      <td>...</td>\n",
              "    </tr>\n",
              "    <tr>\n",
              "      <th>7093161</th>\n",
              "      <td>1.751071e+09</td>\n",
              "      <td>107128.00</td>\n",
              "      <td>107165.00</td>\n",
              "      <td>107128.00</td>\n",
              "      <td>107142.00</td>\n",
              "      <td>0.160983</td>\n",
              "    </tr>\n",
              "    <tr>\n",
              "      <th>7093162</th>\n",
              "      <td>1.751071e+09</td>\n",
              "      <td>107148.00</td>\n",
              "      <td>107148.00</td>\n",
              "      <td>107147.00</td>\n",
              "      <td>107147.00</td>\n",
              "      <td>0.002302</td>\n",
              "    </tr>\n",
              "    <tr>\n",
              "      <th>7093163</th>\n",
              "      <td>1.751071e+09</td>\n",
              "      <td>107147.00</td>\n",
              "      <td>107147.00</td>\n",
              "      <td>107147.00</td>\n",
              "      <td>107147.00</td>\n",
              "      <td>0.008469</td>\n",
              "    </tr>\n",
              "    <tr>\n",
              "      <th>7093164</th>\n",
              "      <td>1.751072e+09</td>\n",
              "      <td>107147.00</td>\n",
              "      <td>107148.00</td>\n",
              "      <td>107147.00</td>\n",
              "      <td>107148.00</td>\n",
              "      <td>0.003250</td>\n",
              "    </tr>\n",
              "    <tr>\n",
              "      <th>7093165</th>\n",
              "      <td>1.751072e+09</td>\n",
              "      <td>107150.00</td>\n",
              "      <td>107207.00</td>\n",
              "      <td>107150.00</td>\n",
              "      <td>107207.00</td>\n",
              "      <td>0.088245</td>\n",
              "    </tr>\n",
              "  </tbody>\n",
              "</table>\n",
              "<p>7093166 rows × 6 columns</p>\n",
              "</div>"
            ],
            "text/plain": [
              "            Timestamp       Open       High        Low      Close    Volume\n",
              "0        1.325412e+09       4.58       4.58       4.58       4.58  0.000000\n",
              "1        1.325412e+09       4.58       4.58       4.58       4.58  0.000000\n",
              "2        1.325412e+09       4.58       4.58       4.58       4.58  0.000000\n",
              "3        1.325412e+09       4.58       4.58       4.58       4.58  0.000000\n",
              "4        1.325412e+09       4.58       4.58       4.58       4.58  0.000000\n",
              "...               ...        ...        ...        ...        ...       ...\n",
              "7093161  1.751071e+09  107128.00  107165.00  107128.00  107142.00  0.160983\n",
              "7093162  1.751071e+09  107148.00  107148.00  107147.00  107147.00  0.002302\n",
              "7093163  1.751071e+09  107147.00  107147.00  107147.00  107147.00  0.008469\n",
              "7093164  1.751072e+09  107147.00  107148.00  107147.00  107148.00  0.003250\n",
              "7093165  1.751072e+09  107150.00  107207.00  107150.00  107207.00  0.088245\n",
              "\n",
              "[7093166 rows x 6 columns]"
            ]
          },
          "execution_count": 5,
          "metadata": {},
          "output_type": "execute_result"
        }
      ],
      "source": [
        "df_original = pd.read_csv(\"\")\n",
        "df = df_original.copy()\n",
        "df"
      ]
    },
    {
      "cell_type": "markdown",
      "id": "Vx4_cKmjI5uc",
      "metadata": {
        "id": "Vx4_cKmjI5uc"
      },
      "source": [
        "### **Opción 2:**\n",
        "Manera Tradicional de importar el dataset\n"
      ]
    },
    {
      "cell_type": "code",
      "execution_count": 42,
      "id": "0b0391c8",
      "metadata": {
        "id": "0b0391c8"
      },
      "outputs": [
        {
          "data": {
            "text/html": [
              "<div>\n",
              "<style scoped>\n",
              "    .dataframe tbody tr th:only-of-type {\n",
              "        vertical-align: middle;\n",
              "    }\n",
              "\n",
              "    .dataframe tbody tr th {\n",
              "        vertical-align: top;\n",
              "    }\n",
              "\n",
              "    .dataframe thead th {\n",
              "        text-align: right;\n",
              "    }\n",
              "</style>\n",
              "<table border=\"1\" class=\"dataframe\">\n",
              "  <thead>\n",
              "    <tr style=\"text-align: right;\">\n",
              "      <th></th>\n",
              "      <th>Timestamp</th>\n",
              "      <th>Open</th>\n",
              "      <th>High</th>\n",
              "      <th>Low</th>\n",
              "      <th>Close</th>\n",
              "      <th>Volume</th>\n",
              "    </tr>\n",
              "  </thead>\n",
              "  <tbody>\n",
              "    <tr>\n",
              "      <th>0</th>\n",
              "      <td>1.325412e+09</td>\n",
              "      <td>4.58</td>\n",
              "      <td>4.58</td>\n",
              "      <td>4.58</td>\n",
              "      <td>4.58</td>\n",
              "      <td>0.000000</td>\n",
              "    </tr>\n",
              "    <tr>\n",
              "      <th>1</th>\n",
              "      <td>1.325412e+09</td>\n",
              "      <td>4.58</td>\n",
              "      <td>4.58</td>\n",
              "      <td>4.58</td>\n",
              "      <td>4.58</td>\n",
              "      <td>0.000000</td>\n",
              "    </tr>\n",
              "    <tr>\n",
              "      <th>2</th>\n",
              "      <td>1.325412e+09</td>\n",
              "      <td>4.58</td>\n",
              "      <td>4.58</td>\n",
              "      <td>4.58</td>\n",
              "      <td>4.58</td>\n",
              "      <td>0.000000</td>\n",
              "    </tr>\n",
              "    <tr>\n",
              "      <th>3</th>\n",
              "      <td>1.325412e+09</td>\n",
              "      <td>4.58</td>\n",
              "      <td>4.58</td>\n",
              "      <td>4.58</td>\n",
              "      <td>4.58</td>\n",
              "      <td>0.000000</td>\n",
              "    </tr>\n",
              "    <tr>\n",
              "      <th>4</th>\n",
              "      <td>1.325412e+09</td>\n",
              "      <td>4.58</td>\n",
              "      <td>4.58</td>\n",
              "      <td>4.58</td>\n",
              "      <td>4.58</td>\n",
              "      <td>0.000000</td>\n",
              "    </tr>\n",
              "    <tr>\n",
              "      <th>...</th>\n",
              "      <td>...</td>\n",
              "      <td>...</td>\n",
              "      <td>...</td>\n",
              "      <td>...</td>\n",
              "      <td>...</td>\n",
              "      <td>...</td>\n",
              "    </tr>\n",
              "    <tr>\n",
              "      <th>7098923</th>\n",
              "      <td>1.751417e+09</td>\n",
              "      <td>105647.00</td>\n",
              "      <td>105647.00</td>\n",
              "      <td>105623.00</td>\n",
              "      <td>105623.00</td>\n",
              "      <td>0.068872</td>\n",
              "    </tr>\n",
              "    <tr>\n",
              "      <th>7098924</th>\n",
              "      <td>1.751417e+09</td>\n",
              "      <td>105621.00</td>\n",
              "      <td>105621.00</td>\n",
              "      <td>105618.00</td>\n",
              "      <td>105618.00</td>\n",
              "      <td>0.054222</td>\n",
              "    </tr>\n",
              "    <tr>\n",
              "      <th>7098925</th>\n",
              "      <td>1.751417e+09</td>\n",
              "      <td>105584.00</td>\n",
              "      <td>105584.00</td>\n",
              "      <td>105539.00</td>\n",
              "      <td>105539.00</td>\n",
              "      <td>0.080127</td>\n",
              "    </tr>\n",
              "    <tr>\n",
              "      <th>7098926</th>\n",
              "      <td>1.751417e+09</td>\n",
              "      <td>105539.00</td>\n",
              "      <td>105539.00</td>\n",
              "      <td>105484.00</td>\n",
              "      <td>105484.00</td>\n",
              "      <td>0.071111</td>\n",
              "    </tr>\n",
              "    <tr>\n",
              "      <th>7098927</th>\n",
              "      <td>1.751417e+09</td>\n",
              "      <td>105469.00</td>\n",
              "      <td>105469.00</td>\n",
              "      <td>105469.00</td>\n",
              "      <td>105469.00</td>\n",
              "      <td>0.012554</td>\n",
              "    </tr>\n",
              "  </tbody>\n",
              "</table>\n",
              "<p>7098928 rows × 6 columns</p>\n",
              "</div>"
            ],
            "text/plain": [
              "            Timestamp       Open       High        Low      Close    Volume\n",
              "0        1.325412e+09       4.58       4.58       4.58       4.58  0.000000\n",
              "1        1.325412e+09       4.58       4.58       4.58       4.58  0.000000\n",
              "2        1.325412e+09       4.58       4.58       4.58       4.58  0.000000\n",
              "3        1.325412e+09       4.58       4.58       4.58       4.58  0.000000\n",
              "4        1.325412e+09       4.58       4.58       4.58       4.58  0.000000\n",
              "...               ...        ...        ...        ...        ...       ...\n",
              "7098923  1.751417e+09  105647.00  105647.00  105623.00  105623.00  0.068872\n",
              "7098924  1.751417e+09  105621.00  105621.00  105618.00  105618.00  0.054222\n",
              "7098925  1.751417e+09  105584.00  105584.00  105539.00  105539.00  0.080127\n",
              "7098926  1.751417e+09  105539.00  105539.00  105484.00  105484.00  0.071111\n",
              "7098927  1.751417e+09  105469.00  105469.00  105469.00  105469.00  0.012554\n",
              "\n",
              "[7098928 rows x 6 columns]"
            ]
          },
          "execution_count": 42,
          "metadata": {},
          "output_type": "execute_result"
        }
      ],
      "source": [
        "df_original = pd.read_csv(r\"C:\\PythonProjects\\IA-TalentoTech\\Proyecto\\btcusd_1-min_data.csv\")\n",
        "df = df_original.copy()\n",
        "df"
      ]
    },
    {
      "cell_type": "markdown",
      "id": "f1447b3a",
      "metadata": {
        "id": "f1447b3a"
      },
      "source": [
        "## Análisis exploratorio de los datos"
      ]
    },
    {
      "cell_type": "code",
      "execution_count": 43,
      "id": "5c2a9564",
      "metadata": {
        "collapsed": true,
        "id": "5c2a9564"
      },
      "outputs": [
        {
          "data": {
            "text/plain": [
              "Timestamp    0\n",
              "Open         0\n",
              "High         0\n",
              "Low          0\n",
              "Close        0\n",
              "Volume       0\n",
              "dtype: int64"
            ]
          },
          "execution_count": 43,
          "metadata": {},
          "output_type": "execute_result"
        }
      ],
      "source": [
        "#Verificando cantidad de datos nulos\n",
        "df.isnull().sum()"
      ]
    },
    {
      "cell_type": "code",
      "execution_count": 44,
      "id": "edcf0803",
      "metadata": {
        "id": "edcf0803"
      },
      "outputs": [
        {
          "data": {
            "text/html": [
              "<div>\n",
              "<style scoped>\n",
              "    .dataframe tbody tr th:only-of-type {\n",
              "        vertical-align: middle;\n",
              "    }\n",
              "\n",
              "    .dataframe tbody tr th {\n",
              "        vertical-align: top;\n",
              "    }\n",
              "\n",
              "    .dataframe thead th {\n",
              "        text-align: right;\n",
              "    }\n",
              "</style>\n",
              "<table border=\"1\" class=\"dataframe\">\n",
              "  <thead>\n",
              "    <tr style=\"text-align: right;\">\n",
              "      <th></th>\n",
              "      <th>Timestamp</th>\n",
              "      <th>Open</th>\n",
              "      <th>High</th>\n",
              "      <th>Low</th>\n",
              "      <th>Close</th>\n",
              "      <th>Volume</th>\n",
              "    </tr>\n",
              "  </thead>\n",
              "  <tbody>\n",
              "    <tr>\n",
              "      <th>count</th>\n",
              "      <td>7.098928e+06</td>\n",
              "      <td>7.098928e+06</td>\n",
              "      <td>7.098928e+06</td>\n",
              "      <td>7.098928e+06</td>\n",
              "      <td>7.098928e+06</td>\n",
              "      <td>7.098928e+06</td>\n",
              "    </tr>\n",
              "    <tr>\n",
              "      <th>mean</th>\n",
              "      <td>1.538381e+09</td>\n",
              "      <td>1.848634e+04</td>\n",
              "      <td>1.849344e+04</td>\n",
              "      <td>1.847903e+04</td>\n",
              "      <td>1.848634e+04</td>\n",
              "      <td>5.245299e+00</td>\n",
              "    </tr>\n",
              "    <tr>\n",
              "      <th>std</th>\n",
              "      <td>1.229596e+08</td>\n",
              "      <td>2.578990e+04</td>\n",
              "      <td>2.579777e+04</td>\n",
              "      <td>2.578184e+04</td>\n",
              "      <td>2.578988e+04</td>\n",
              "      <td>2.238714e+01</td>\n",
              "    </tr>\n",
              "    <tr>\n",
              "      <th>min</th>\n",
              "      <td>1.325412e+09</td>\n",
              "      <td>3.800000e+00</td>\n",
              "      <td>3.800000e+00</td>\n",
              "      <td>3.800000e+00</td>\n",
              "      <td>3.800000e+00</td>\n",
              "      <td>0.000000e+00</td>\n",
              "    </tr>\n",
              "    <tr>\n",
              "      <th>25%</th>\n",
              "      <td>1.431896e+09</td>\n",
              "      <td>4.299600e+02</td>\n",
              "      <td>4.300000e+02</td>\n",
              "      <td>4.297500e+02</td>\n",
              "      <td>4.299600e+02</td>\n",
              "      <td>1.794000e-02</td>\n",
              "    </tr>\n",
              "    <tr>\n",
              "      <th>50%</th>\n",
              "      <td>1.538380e+09</td>\n",
              "      <td>6.751300e+03</td>\n",
              "      <td>6.755410e+03</td>\n",
              "      <td>6.747590e+03</td>\n",
              "      <td>6.751010e+03</td>\n",
              "      <td>4.541792e-01</td>\n",
              "    </tr>\n",
              "    <tr>\n",
              "      <th>75%</th>\n",
              "      <td>1.644864e+09</td>\n",
              "      <td>2.836000e+04</td>\n",
              "      <td>2.836800e+04</td>\n",
              "      <td>2.835100e+04</td>\n",
              "      <td>2.836000e+04</td>\n",
              "      <td>3.000000e+00</td>\n",
              "    </tr>\n",
              "    <tr>\n",
              "      <th>max</th>\n",
              "      <td>1.751417e+09</td>\n",
              "      <td>1.119930e+05</td>\n",
              "      <td>1.120000e+05</td>\n",
              "      <td>1.119670e+05</td>\n",
              "      <td>1.119750e+05</td>\n",
              "      <td>5.853852e+03</td>\n",
              "    </tr>\n",
              "  </tbody>\n",
              "</table>\n",
              "</div>"
            ],
            "text/plain": [
              "          Timestamp          Open          High           Low         Close  \\\n",
              "count  7.098928e+06  7.098928e+06  7.098928e+06  7.098928e+06  7.098928e+06   \n",
              "mean   1.538381e+09  1.848634e+04  1.849344e+04  1.847903e+04  1.848634e+04   \n",
              "std    1.229596e+08  2.578990e+04  2.579777e+04  2.578184e+04  2.578988e+04   \n",
              "min    1.325412e+09  3.800000e+00  3.800000e+00  3.800000e+00  3.800000e+00   \n",
              "25%    1.431896e+09  4.299600e+02  4.300000e+02  4.297500e+02  4.299600e+02   \n",
              "50%    1.538380e+09  6.751300e+03  6.755410e+03  6.747590e+03  6.751010e+03   \n",
              "75%    1.644864e+09  2.836000e+04  2.836800e+04  2.835100e+04  2.836000e+04   \n",
              "max    1.751417e+09  1.119930e+05  1.120000e+05  1.119670e+05  1.119750e+05   \n",
              "\n",
              "             Volume  \n",
              "count  7.098928e+06  \n",
              "mean   5.245299e+00  \n",
              "std    2.238714e+01  \n",
              "min    0.000000e+00  \n",
              "25%    1.794000e-02  \n",
              "50%    4.541792e-01  \n",
              "75%    3.000000e+00  \n",
              "max    5.853852e+03  "
            ]
          },
          "execution_count": 44,
          "metadata": {},
          "output_type": "execute_result"
        }
      ],
      "source": [
        "# Descripcion Estadistica\n",
        "df.describe()"
      ]
    },
    {
      "cell_type": "code",
      "execution_count": 45,
      "id": "bd6ea75f",
      "metadata": {
        "id": "bd6ea75f"
      },
      "outputs": [
        {
          "data": {
            "text/plain": [
              "Index(['Timestamp', 'Open', 'High', 'Low', 'Close', 'Volume'], dtype='object')"
            ]
          },
          "execution_count": 45,
          "metadata": {},
          "output_type": "execute_result"
        }
      ],
      "source": [
        "# Columnas del dataset\n",
        "df.columns"
      ]
    },
    {
      "cell_type": "code",
      "execution_count": 46,
      "id": "785a7962",
      "metadata": {
        "id": "785a7962"
      },
      "outputs": [
        {
          "data": {
            "text/plain": [
              "(7098928, 6)"
            ]
          },
          "execution_count": 46,
          "metadata": {},
          "output_type": "execute_result"
        }
      ],
      "source": [
        "# Tamaño del dataset\n",
        "df.shape"
      ]
    },
    {
      "cell_type": "code",
      "execution_count": 47,
      "id": "857aaf42",
      "metadata": {
        "id": "857aaf42"
      },
      "outputs": [
        {
          "name": "stdout",
          "output_type": "stream",
          "text": [
            "<class 'pandas.core.frame.DataFrame'>\n",
            "RangeIndex: 7098928 entries, 0 to 7098927\n",
            "Data columns (total 6 columns):\n",
            " #   Column     Dtype  \n",
            "---  ------     -----  \n",
            " 0   Timestamp  float64\n",
            " 1   Open       float64\n",
            " 2   High       float64\n",
            " 3   Low        float64\n",
            " 4   Close      float64\n",
            " 5   Volume     float64\n",
            "dtypes: float64(6)\n",
            "memory usage: 325.0 MB\n"
          ]
        }
      ],
      "source": [
        "df.info()"
      ]
    },
    {
      "cell_type": "code",
      "execution_count": 48,
      "id": "p5klnHYI5DFQ",
      "metadata": {
        "id": "p5klnHYI5DFQ"
      },
      "outputs": [
        {
          "data": {
            "text/plain": [
              "Timestamp    0\n",
              "Open         0\n",
              "High         0\n",
              "Low          0\n",
              "Close        0\n",
              "Volume       0\n",
              "dtype: int64"
            ]
          },
          "execution_count": 48,
          "metadata": {},
          "output_type": "execute_result"
        }
      ],
      "source": [
        "#Verificando si hay datos nulos\n",
        "df.isnull().sum()"
      ]
    },
    {
      "cell_type": "markdown",
      "id": "m-0kwIZ9AOWd",
      "metadata": {
        "id": "m-0kwIZ9AOWd"
      },
      "source": [
        "## Limpieza de datos"
      ]
    },
    {
      "cell_type": "markdown",
      "id": "84d738ff",
      "metadata": {
        "id": "84d738ff"
      },
      "source": [
        "### Creación de nuevas columnas (date y hour)"
      ]
    },
    {
      "cell_type": "code",
      "execution_count": 49,
      "id": "5aa850fa",
      "metadata": {
        "id": "5aa850fa"
      },
      "outputs": [
        {
          "name": "stdout",
          "output_type": "stream",
          "text": [
            "<class 'pandas.core.frame.DataFrame'>\n",
            "RangeIndex: 7098928 entries, 0 to 7098927\n",
            "Data columns (total 9 columns):\n",
            " #   Column     Dtype         \n",
            "---  ------     -----         \n",
            " 0   Timestamp  float64       \n",
            " 1   Open       float64       \n",
            " 2   High       float64       \n",
            " 3   Low        float64       \n",
            " 4   Close      float64       \n",
            " 5   Volume     float64       \n",
            " 6   Datetime   datetime64[ns]\n",
            " 7   Date       object        \n",
            " 8   Hour       int32         \n",
            "dtypes: datetime64[ns](1), float64(6), int32(1), object(1)\n",
            "memory usage: 460.4+ MB\n"
          ]
        }
      ],
      "source": [
        "df[\"Datetime\"] = pd.to_datetime(df[\"Timestamp\"], unit=\"s\")\n",
        "df[\"Date\"] = df[\"Datetime\"].dt.date\n",
        "df[\"Hour\"] = df[\"Datetime\"].dt.hour\n",
        "\n",
        "df.info()\n"
      ]
    },
    {
      "cell_type": "markdown",
      "id": "b0e7e210",
      "metadata": {},
      "source": [
        "### Conversión de datos a datetime"
      ]
    },
    {
      "cell_type": "code",
      "execution_count": 52,
      "id": "9172c55f",
      "metadata": {},
      "outputs": [
        {
          "name": "stdout",
          "output_type": "stream",
          "text": [
            "<class 'pandas.core.frame.DataFrame'>\n",
            "RangeIndex: 7098928 entries, 0 to 7098927\n",
            "Data columns (total 9 columns):\n",
            " #   Column     Dtype         \n",
            "---  ------     -----         \n",
            " 0   Timestamp  float64       \n",
            " 1   Open       float64       \n",
            " 2   High       float64       \n",
            " 3   Low        float64       \n",
            " 4   Close      float64       \n",
            " 5   Volume     float64       \n",
            " 6   Datetime   datetime64[ns]\n",
            " 7   Date       datetime64[ns]\n",
            " 8   Hour       int32         \n",
            "dtypes: datetime64[ns](2), float64(6), int32(1)\n",
            "memory usage: 460.4 MB\n"
          ]
        }
      ],
      "source": [
        "df['Date'] = pd.to_datetime(df['Date'])\n",
        "df.info()"
      ]
    },
    {
      "cell_type": "markdown",
      "id": "9Nc_anlKAWvY",
      "metadata": {
        "id": "9Nc_anlKAWvY"
      },
      "source": [
        "### Límite de registros\n",
        "\n",
        "El dataset se está actualizando constantemente, por lo que esto es una medida de estandarización para evaluar los resultados"
      ]
    },
    {
      "cell_type": "code",
      "execution_count": 55,
      "id": "IrbzuomO9MOB",
      "metadata": {
        "id": "IrbzuomO9MOB"
      },
      "outputs": [],
      "source": [
        "df = df[df['Date'] <= pd.Timestamp(dt.date(year=2025, month=6, day=30))]"
      ]
    },
    {
      "cell_type": "code",
      "execution_count": 56,
      "id": "833e8ddc",
      "metadata": {
        "id": "833e8ddc"
      },
      "outputs": [
        {
          "data": {
            "text/html": [
              "<div>\n",
              "<style scoped>\n",
              "    .dataframe tbody tr th:only-of-type {\n",
              "        vertical-align: middle;\n",
              "    }\n",
              "\n",
              "    .dataframe tbody tr th {\n",
              "        vertical-align: top;\n",
              "    }\n",
              "\n",
              "    .dataframe thead th {\n",
              "        text-align: right;\n",
              "    }\n",
              "</style>\n",
              "<table border=\"1\" class=\"dataframe\">\n",
              "  <thead>\n",
              "    <tr style=\"text-align: right;\">\n",
              "      <th></th>\n",
              "      <th>Timestamp</th>\n",
              "      <th>Open</th>\n",
              "      <th>High</th>\n",
              "      <th>Low</th>\n",
              "      <th>Close</th>\n",
              "      <th>Volume</th>\n",
              "      <th>Datetime</th>\n",
              "      <th>Date</th>\n",
              "      <th>Hour</th>\n",
              "    </tr>\n",
              "  </thead>\n",
              "  <tbody>\n",
              "    <tr>\n",
              "      <th>0</th>\n",
              "      <td>1.325412e+09</td>\n",
              "      <td>4.58</td>\n",
              "      <td>4.58</td>\n",
              "      <td>4.58</td>\n",
              "      <td>4.58</td>\n",
              "      <td>0.000000</td>\n",
              "      <td>2012-01-01 10:01:00</td>\n",
              "      <td>2012-01-01</td>\n",
              "      <td>10</td>\n",
              "    </tr>\n",
              "    <tr>\n",
              "      <th>1</th>\n",
              "      <td>1.325412e+09</td>\n",
              "      <td>4.58</td>\n",
              "      <td>4.58</td>\n",
              "      <td>4.58</td>\n",
              "      <td>4.58</td>\n",
              "      <td>0.000000</td>\n",
              "      <td>2012-01-01 10:02:00</td>\n",
              "      <td>2012-01-01</td>\n",
              "      <td>10</td>\n",
              "    </tr>\n",
              "    <tr>\n",
              "      <th>2</th>\n",
              "      <td>1.325412e+09</td>\n",
              "      <td>4.58</td>\n",
              "      <td>4.58</td>\n",
              "      <td>4.58</td>\n",
              "      <td>4.58</td>\n",
              "      <td>0.000000</td>\n",
              "      <td>2012-01-01 10:03:00</td>\n",
              "      <td>2012-01-01</td>\n",
              "      <td>10</td>\n",
              "    </tr>\n",
              "    <tr>\n",
              "      <th>3</th>\n",
              "      <td>1.325412e+09</td>\n",
              "      <td>4.58</td>\n",
              "      <td>4.58</td>\n",
              "      <td>4.58</td>\n",
              "      <td>4.58</td>\n",
              "      <td>0.000000</td>\n",
              "      <td>2012-01-01 10:04:00</td>\n",
              "      <td>2012-01-01</td>\n",
              "      <td>10</td>\n",
              "    </tr>\n",
              "    <tr>\n",
              "      <th>4</th>\n",
              "      <td>1.325412e+09</td>\n",
              "      <td>4.58</td>\n",
              "      <td>4.58</td>\n",
              "      <td>4.58</td>\n",
              "      <td>4.58</td>\n",
              "      <td>0.000000</td>\n",
              "      <td>2012-01-01 10:05:00</td>\n",
              "      <td>2012-01-01</td>\n",
              "      <td>10</td>\n",
              "    </tr>\n",
              "    <tr>\n",
              "      <th>...</th>\n",
              "      <td>...</td>\n",
              "      <td>...</td>\n",
              "      <td>...</td>\n",
              "      <td>...</td>\n",
              "      <td>...</td>\n",
              "      <td>...</td>\n",
              "      <td>...</td>\n",
              "      <td>...</td>\n",
              "      <td>...</td>\n",
              "    </tr>\n",
              "    <tr>\n",
              "      <th>7097434</th>\n",
              "      <td>1.751328e+09</td>\n",
              "      <td>107122.00</td>\n",
              "      <td>107126.00</td>\n",
              "      <td>107122.00</td>\n",
              "      <td>107123.00</td>\n",
              "      <td>0.056103</td>\n",
              "      <td>2025-06-30 23:55:00</td>\n",
              "      <td>2025-06-30</td>\n",
              "      <td>23</td>\n",
              "    </tr>\n",
              "    <tr>\n",
              "      <th>7097435</th>\n",
              "      <td>1.751328e+09</td>\n",
              "      <td>107115.00</td>\n",
              "      <td>107115.00</td>\n",
              "      <td>107105.00</td>\n",
              "      <td>107105.00</td>\n",
              "      <td>0.005565</td>\n",
              "      <td>2025-06-30 23:56:00</td>\n",
              "      <td>2025-06-30</td>\n",
              "      <td>23</td>\n",
              "    </tr>\n",
              "    <tr>\n",
              "      <th>7097436</th>\n",
              "      <td>1.751328e+09</td>\n",
              "      <td>107105.00</td>\n",
              "      <td>107116.00</td>\n",
              "      <td>107105.00</td>\n",
              "      <td>107110.00</td>\n",
              "      <td>0.048106</td>\n",
              "      <td>2025-06-30 23:57:00</td>\n",
              "      <td>2025-06-30</td>\n",
              "      <td>23</td>\n",
              "    </tr>\n",
              "    <tr>\n",
              "      <th>7097437</th>\n",
              "      <td>1.751328e+09</td>\n",
              "      <td>107108.00</td>\n",
              "      <td>107128.00</td>\n",
              "      <td>107108.00</td>\n",
              "      <td>107128.00</td>\n",
              "      <td>0.258386</td>\n",
              "      <td>2025-06-30 23:58:00</td>\n",
              "      <td>2025-06-30</td>\n",
              "      <td>23</td>\n",
              "    </tr>\n",
              "    <tr>\n",
              "      <th>7097438</th>\n",
              "      <td>1.751328e+09</td>\n",
              "      <td>107167.00</td>\n",
              "      <td>107203.00</td>\n",
              "      <td>107167.00</td>\n",
              "      <td>107179.00</td>\n",
              "      <td>0.370334</td>\n",
              "      <td>2025-06-30 23:59:00</td>\n",
              "      <td>2025-06-30</td>\n",
              "      <td>23</td>\n",
              "    </tr>\n",
              "  </tbody>\n",
              "</table>\n",
              "<p>7097439 rows × 9 columns</p>\n",
              "</div>"
            ],
            "text/plain": [
              "            Timestamp       Open       High        Low      Close    Volume  \\\n",
              "0        1.325412e+09       4.58       4.58       4.58       4.58  0.000000   \n",
              "1        1.325412e+09       4.58       4.58       4.58       4.58  0.000000   \n",
              "2        1.325412e+09       4.58       4.58       4.58       4.58  0.000000   \n",
              "3        1.325412e+09       4.58       4.58       4.58       4.58  0.000000   \n",
              "4        1.325412e+09       4.58       4.58       4.58       4.58  0.000000   \n",
              "...               ...        ...        ...        ...        ...       ...   \n",
              "7097434  1.751328e+09  107122.00  107126.00  107122.00  107123.00  0.056103   \n",
              "7097435  1.751328e+09  107115.00  107115.00  107105.00  107105.00  0.005565   \n",
              "7097436  1.751328e+09  107105.00  107116.00  107105.00  107110.00  0.048106   \n",
              "7097437  1.751328e+09  107108.00  107128.00  107108.00  107128.00  0.258386   \n",
              "7097438  1.751328e+09  107167.00  107203.00  107167.00  107179.00  0.370334   \n",
              "\n",
              "                   Datetime       Date  Hour  \n",
              "0       2012-01-01 10:01:00 2012-01-01    10  \n",
              "1       2012-01-01 10:02:00 2012-01-01    10  \n",
              "2       2012-01-01 10:03:00 2012-01-01    10  \n",
              "3       2012-01-01 10:04:00 2012-01-01    10  \n",
              "4       2012-01-01 10:05:00 2012-01-01    10  \n",
              "...                     ...        ...   ...  \n",
              "7097434 2025-06-30 23:55:00 2025-06-30    23  \n",
              "7097435 2025-06-30 23:56:00 2025-06-30    23  \n",
              "7097436 2025-06-30 23:57:00 2025-06-30    23  \n",
              "7097437 2025-06-30 23:58:00 2025-06-30    23  \n",
              "7097438 2025-06-30 23:59:00 2025-06-30    23  \n",
              "\n",
              "[7097439 rows x 9 columns]"
            ]
          },
          "execution_count": 56,
          "metadata": {},
          "output_type": "execute_result"
        }
      ],
      "source": [
        "df"
      ]
    },
    {
      "cell_type": "markdown",
      "id": "5a288b2c",
      "metadata": {
        "id": "5a288b2c"
      },
      "source": [
        "### Reducciendo columnas y agrupando por día y hora"
      ]
    },
    {
      "cell_type": "code",
      "execution_count": 59,
      "id": "335e7aff",
      "metadata": {
        "id": "335e7aff"
      },
      "outputs": [
        {
          "data": {
            "text/html": [
              "<div>\n",
              "<style scoped>\n",
              "    .dataframe tbody tr th:only-of-type {\n",
              "        vertical-align: middle;\n",
              "    }\n",
              "\n",
              "    .dataframe tbody tr th {\n",
              "        vertical-align: top;\n",
              "    }\n",
              "\n",
              "    .dataframe thead th {\n",
              "        text-align: right;\n",
              "    }\n",
              "</style>\n",
              "<table border=\"1\" class=\"dataframe\">\n",
              "  <thead>\n",
              "    <tr style=\"text-align: right;\">\n",
              "      <th></th>\n",
              "      <th>Date</th>\n",
              "      <th>Hour</th>\n",
              "      <th>Open</th>\n",
              "      <th>High</th>\n",
              "      <th>Low</th>\n",
              "      <th>Close</th>\n",
              "      <th>Volume</th>\n",
              "    </tr>\n",
              "  </thead>\n",
              "  <tbody>\n",
              "    <tr>\n",
              "      <th>0</th>\n",
              "      <td>2012-01-01</td>\n",
              "      <td>10</td>\n",
              "      <td>4.580000</td>\n",
              "      <td>4.580000</td>\n",
              "      <td>4.580000</td>\n",
              "      <td>4.580000</td>\n",
              "      <td>0.000000</td>\n",
              "    </tr>\n",
              "    <tr>\n",
              "      <th>1</th>\n",
              "      <td>2012-01-01</td>\n",
              "      <td>11</td>\n",
              "      <td>4.580000</td>\n",
              "      <td>4.580000</td>\n",
              "      <td>4.580000</td>\n",
              "      <td>4.580000</td>\n",
              "      <td>0.000000</td>\n",
              "    </tr>\n",
              "    <tr>\n",
              "      <th>2</th>\n",
              "      <td>2012-01-01</td>\n",
              "      <td>12</td>\n",
              "      <td>4.580000</td>\n",
              "      <td>4.580000</td>\n",
              "      <td>4.580000</td>\n",
              "      <td>4.580000</td>\n",
              "      <td>0.000000</td>\n",
              "    </tr>\n",
              "    <tr>\n",
              "      <th>3</th>\n",
              "      <td>2012-01-01</td>\n",
              "      <td>13</td>\n",
              "      <td>4.580000</td>\n",
              "      <td>4.580000</td>\n",
              "      <td>4.580000</td>\n",
              "      <td>4.580000</td>\n",
              "      <td>0.000000</td>\n",
              "    </tr>\n",
              "    <tr>\n",
              "      <th>4</th>\n",
              "      <td>2012-01-01</td>\n",
              "      <td>14</td>\n",
              "      <td>4.580000</td>\n",
              "      <td>4.580000</td>\n",
              "      <td>4.580000</td>\n",
              "      <td>4.580000</td>\n",
              "      <td>0.000000</td>\n",
              "    </tr>\n",
              "    <tr>\n",
              "      <th>...</th>\n",
              "      <td>...</td>\n",
              "      <td>...</td>\n",
              "      <td>...</td>\n",
              "      <td>...</td>\n",
              "      <td>...</td>\n",
              "      <td>...</td>\n",
              "      <td>...</td>\n",
              "    </tr>\n",
              "    <tr>\n",
              "      <th>118287</th>\n",
              "      <td>2025-06-30</td>\n",
              "      <td>19</td>\n",
              "      <td>107477.950000</td>\n",
              "      <td>107497.266667</td>\n",
              "      <td>107467.500000</td>\n",
              "      <td>107486.200000</td>\n",
              "      <td>46.535860</td>\n",
              "    </tr>\n",
              "    <tr>\n",
              "      <th>118288</th>\n",
              "      <td>2025-06-30</td>\n",
              "      <td>20</td>\n",
              "      <td>107622.633333</td>\n",
              "      <td>107631.366667</td>\n",
              "      <td>107611.116667</td>\n",
              "      <td>107620.583333</td>\n",
              "      <td>24.375672</td>\n",
              "    </tr>\n",
              "    <tr>\n",
              "      <th>118289</th>\n",
              "      <td>2025-06-30</td>\n",
              "      <td>21</td>\n",
              "      <td>107407.683333</td>\n",
              "      <td>107414.483333</td>\n",
              "      <td>107388.750000</td>\n",
              "      <td>107398.183333</td>\n",
              "      <td>49.511005</td>\n",
              "    </tr>\n",
              "    <tr>\n",
              "      <th>118290</th>\n",
              "      <td>2025-06-30</td>\n",
              "      <td>22</td>\n",
              "      <td>107243.750000</td>\n",
              "      <td>107255.333333</td>\n",
              "      <td>107230.683333</td>\n",
              "      <td>107242.583333</td>\n",
              "      <td>21.599699</td>\n",
              "    </tr>\n",
              "    <tr>\n",
              "      <th>118291</th>\n",
              "      <td>2025-06-30</td>\n",
              "      <td>23</td>\n",
              "      <td>107161.783333</td>\n",
              "      <td>107170.516667</td>\n",
              "      <td>107153.750000</td>\n",
              "      <td>107162.116667</td>\n",
              "      <td>19.810907</td>\n",
              "    </tr>\n",
              "  </tbody>\n",
              "</table>\n",
              "<p>118292 rows × 7 columns</p>\n",
              "</div>"
            ],
            "text/plain": [
              "             Date  Hour           Open           High            Low  \\\n",
              "0      2012-01-01    10       4.580000       4.580000       4.580000   \n",
              "1      2012-01-01    11       4.580000       4.580000       4.580000   \n",
              "2      2012-01-01    12       4.580000       4.580000       4.580000   \n",
              "3      2012-01-01    13       4.580000       4.580000       4.580000   \n",
              "4      2012-01-01    14       4.580000       4.580000       4.580000   \n",
              "...           ...   ...            ...            ...            ...   \n",
              "118287 2025-06-30    19  107477.950000  107497.266667  107467.500000   \n",
              "118288 2025-06-30    20  107622.633333  107631.366667  107611.116667   \n",
              "118289 2025-06-30    21  107407.683333  107414.483333  107388.750000   \n",
              "118290 2025-06-30    22  107243.750000  107255.333333  107230.683333   \n",
              "118291 2025-06-30    23  107161.783333  107170.516667  107153.750000   \n",
              "\n",
              "                Close     Volume  \n",
              "0            4.580000   0.000000  \n",
              "1            4.580000   0.000000  \n",
              "2            4.580000   0.000000  \n",
              "3            4.580000   0.000000  \n",
              "4            4.580000   0.000000  \n",
              "...               ...        ...  \n",
              "118287  107486.200000  46.535860  \n",
              "118288  107620.583333  24.375672  \n",
              "118289  107398.183333  49.511005  \n",
              "118290  107242.583333  21.599699  \n",
              "118291  107162.116667  19.810907  \n",
              "\n",
              "[118292 rows x 7 columns]"
            ]
          },
          "execution_count": 59,
          "metadata": {},
          "output_type": "execute_result"
        }
      ],
      "source": [
        "df_horario = df.groupby([\"Date\", \"Hour\"])[[\"Open\", \"High\", \"Low\", \"Close\"]].mean()\n",
        "df_horario[\"Volume\"] = df.groupby([\"Date\", \"Hour\"])[\"Volume\"].sum()\n",
        "df_horario = df_horario.reset_index()\n",
        "df_horario"
      ]
    },
    {
      "cell_type": "code",
      "execution_count": 61,
      "id": "620de80e",
      "metadata": {},
      "outputs": [
        {
          "data": {
            "text/html": [
              "<div>\n",
              "<style scoped>\n",
              "    .dataframe tbody tr th:only-of-type {\n",
              "        vertical-align: middle;\n",
              "    }\n",
              "\n",
              "    .dataframe tbody tr th {\n",
              "        vertical-align: top;\n",
              "    }\n",
              "\n",
              "    .dataframe thead th {\n",
              "        text-align: right;\n",
              "    }\n",
              "</style>\n",
              "<table border=\"1\" class=\"dataframe\">\n",
              "  <thead>\n",
              "    <tr style=\"text-align: right;\">\n",
              "      <th></th>\n",
              "      <th>Date</th>\n",
              "      <th>Hour</th>\n",
              "      <th>Open</th>\n",
              "      <th>High</th>\n",
              "      <th>Low</th>\n",
              "      <th>Close</th>\n",
              "      <th>Volume</th>\n",
              "    </tr>\n",
              "    <tr>\n",
              "      <th>Datetime</th>\n",
              "      <th></th>\n",
              "      <th></th>\n",
              "      <th></th>\n",
              "      <th></th>\n",
              "      <th></th>\n",
              "      <th></th>\n",
              "      <th></th>\n",
              "    </tr>\n",
              "  </thead>\n",
              "  <tbody>\n",
              "    <tr>\n",
              "      <th>2012-01-01 10:00:00</th>\n",
              "      <td>2012-01-01</td>\n",
              "      <td>10</td>\n",
              "      <td>4.580000</td>\n",
              "      <td>4.580000</td>\n",
              "      <td>4.580000</td>\n",
              "      <td>4.580000</td>\n",
              "      <td>0.000000</td>\n",
              "    </tr>\n",
              "    <tr>\n",
              "      <th>2012-01-01 11:00:00</th>\n",
              "      <td>2012-01-01</td>\n",
              "      <td>11</td>\n",
              "      <td>4.580000</td>\n",
              "      <td>4.580000</td>\n",
              "      <td>4.580000</td>\n",
              "      <td>4.580000</td>\n",
              "      <td>0.000000</td>\n",
              "    </tr>\n",
              "    <tr>\n",
              "      <th>2012-01-01 12:00:00</th>\n",
              "      <td>2012-01-01</td>\n",
              "      <td>12</td>\n",
              "      <td>4.580000</td>\n",
              "      <td>4.580000</td>\n",
              "      <td>4.580000</td>\n",
              "      <td>4.580000</td>\n",
              "      <td>0.000000</td>\n",
              "    </tr>\n",
              "    <tr>\n",
              "      <th>2012-01-01 13:00:00</th>\n",
              "      <td>2012-01-01</td>\n",
              "      <td>13</td>\n",
              "      <td>4.580000</td>\n",
              "      <td>4.580000</td>\n",
              "      <td>4.580000</td>\n",
              "      <td>4.580000</td>\n",
              "      <td>0.000000</td>\n",
              "    </tr>\n",
              "    <tr>\n",
              "      <th>2012-01-01 14:00:00</th>\n",
              "      <td>2012-01-01</td>\n",
              "      <td>14</td>\n",
              "      <td>4.580000</td>\n",
              "      <td>4.580000</td>\n",
              "      <td>4.580000</td>\n",
              "      <td>4.580000</td>\n",
              "      <td>0.000000</td>\n",
              "    </tr>\n",
              "    <tr>\n",
              "      <th>...</th>\n",
              "      <td>...</td>\n",
              "      <td>...</td>\n",
              "      <td>...</td>\n",
              "      <td>...</td>\n",
              "      <td>...</td>\n",
              "      <td>...</td>\n",
              "      <td>...</td>\n",
              "    </tr>\n",
              "    <tr>\n",
              "      <th>2025-06-30 19:00:00</th>\n",
              "      <td>2025-06-30</td>\n",
              "      <td>19</td>\n",
              "      <td>107477.950000</td>\n",
              "      <td>107497.266667</td>\n",
              "      <td>107467.500000</td>\n",
              "      <td>107486.200000</td>\n",
              "      <td>46.535860</td>\n",
              "    </tr>\n",
              "    <tr>\n",
              "      <th>2025-06-30 20:00:00</th>\n",
              "      <td>2025-06-30</td>\n",
              "      <td>20</td>\n",
              "      <td>107622.633333</td>\n",
              "      <td>107631.366667</td>\n",
              "      <td>107611.116667</td>\n",
              "      <td>107620.583333</td>\n",
              "      <td>24.375672</td>\n",
              "    </tr>\n",
              "    <tr>\n",
              "      <th>2025-06-30 21:00:00</th>\n",
              "      <td>2025-06-30</td>\n",
              "      <td>21</td>\n",
              "      <td>107407.683333</td>\n",
              "      <td>107414.483333</td>\n",
              "      <td>107388.750000</td>\n",
              "      <td>107398.183333</td>\n",
              "      <td>49.511005</td>\n",
              "    </tr>\n",
              "    <tr>\n",
              "      <th>2025-06-30 22:00:00</th>\n",
              "      <td>2025-06-30</td>\n",
              "      <td>22</td>\n",
              "      <td>107243.750000</td>\n",
              "      <td>107255.333333</td>\n",
              "      <td>107230.683333</td>\n",
              "      <td>107242.583333</td>\n",
              "      <td>21.599699</td>\n",
              "    </tr>\n",
              "    <tr>\n",
              "      <th>2025-06-30 23:00:00</th>\n",
              "      <td>2025-06-30</td>\n",
              "      <td>23</td>\n",
              "      <td>107161.783333</td>\n",
              "      <td>107170.516667</td>\n",
              "      <td>107153.750000</td>\n",
              "      <td>107162.116667</td>\n",
              "      <td>19.810907</td>\n",
              "    </tr>\n",
              "  </tbody>\n",
              "</table>\n",
              "<p>118292 rows × 7 columns</p>\n",
              "</div>"
            ],
            "text/plain": [
              "                          Date  Hour           Open           High  \\\n",
              "Datetime                                                             \n",
              "2012-01-01 10:00:00 2012-01-01    10       4.580000       4.580000   \n",
              "2012-01-01 11:00:00 2012-01-01    11       4.580000       4.580000   \n",
              "2012-01-01 12:00:00 2012-01-01    12       4.580000       4.580000   \n",
              "2012-01-01 13:00:00 2012-01-01    13       4.580000       4.580000   \n",
              "2012-01-01 14:00:00 2012-01-01    14       4.580000       4.580000   \n",
              "...                        ...   ...            ...            ...   \n",
              "2025-06-30 19:00:00 2025-06-30    19  107477.950000  107497.266667   \n",
              "2025-06-30 20:00:00 2025-06-30    20  107622.633333  107631.366667   \n",
              "2025-06-30 21:00:00 2025-06-30    21  107407.683333  107414.483333   \n",
              "2025-06-30 22:00:00 2025-06-30    22  107243.750000  107255.333333   \n",
              "2025-06-30 23:00:00 2025-06-30    23  107161.783333  107170.516667   \n",
              "\n",
              "                               Low          Close     Volume  \n",
              "Datetime                                                      \n",
              "2012-01-01 10:00:00       4.580000       4.580000   0.000000  \n",
              "2012-01-01 11:00:00       4.580000       4.580000   0.000000  \n",
              "2012-01-01 12:00:00       4.580000       4.580000   0.000000  \n",
              "2012-01-01 13:00:00       4.580000       4.580000   0.000000  \n",
              "2012-01-01 14:00:00       4.580000       4.580000   0.000000  \n",
              "...                            ...            ...        ...  \n",
              "2025-06-30 19:00:00  107467.500000  107486.200000  46.535860  \n",
              "2025-06-30 20:00:00  107611.116667  107620.583333  24.375672  \n",
              "2025-06-30 21:00:00  107388.750000  107398.183333  49.511005  \n",
              "2025-06-30 22:00:00  107230.683333  107242.583333  21.599699  \n",
              "2025-06-30 23:00:00  107153.750000  107162.116667  19.810907  \n",
              "\n",
              "[118292 rows x 7 columns]"
            ]
          },
          "execution_count": 61,
          "metadata": {},
          "output_type": "execute_result"
        }
      ],
      "source": [
        "df_horario[\"Datetime\"] = pd.to_datetime(df_horario[\"Date\"]) + pd.to_timedelta(df_horario[\"Hour\"], unit=\"h\")\n",
        "df_horario.set_index(\"Datetime\", inplace=True)\n",
        "df_horario"
      ]
    },
    {
      "cell_type": "markdown",
      "id": "f990ed67",
      "metadata": {
        "id": "f990ed67"
      },
      "source": [
        "## Graficos para entender el Dataset"
      ]
    },
    {
      "cell_type": "code",
      "execution_count": 62,
      "id": "5cc9aeb6",
      "metadata": {
        "id": "5cc9aeb6"
      },
      "outputs": [
        {
          "name": "stderr",
          "output_type": "stream",
          "text": [
            "c:\\Users\\davie\\AppData\\Local\\Programs\\Python\\Python312\\Lib\\site-packages\\seaborn\\_oldcore.py:1119: FutureWarning: use_inf_as_na option is deprecated and will be removed in a future version. Convert inf values to NaN before operating instead.\n",
            "  with pd.option_context('mode.use_inf_as_na', True):\n",
            "c:\\Users\\davie\\AppData\\Local\\Programs\\Python\\Python312\\Lib\\site-packages\\seaborn\\_oldcore.py:1119: FutureWarning: use_inf_as_na option is deprecated and will be removed in a future version. Convert inf values to NaN before operating instead.\n",
            "  with pd.option_context('mode.use_inf_as_na', True):\n"
          ]
        },
        {
          "data": {
            "image/png": "[encoded data removed]",
            "text/plain": [
              "<Figure size 1200x500 with 1 Axes>"
            ]
          },
          "metadata": {},
          "output_type": "display_data"
        }
      ],
      "source": [
        "plt.figure(figsize=(12, 5))\n",
        "sns.lineplot(data=df_horario, x=df_horario.index, y=\"Close\")\n",
        "\n",
        "plt.title(\"Precio de Cierre del Bitcoin a través del tiempo\")\n",
        "plt.xlabel(\"Fecha\")\n",
        "plt.ylabel(\"Precio de cierre (USD)\")\n",
        "plt.tight_layout()\n",
        "plt.show()"
      ]
    },
    {
      "cell_type": "code",
      "execution_count": null,
      "id": "TSm2VYDgA-b0",
      "metadata": {
        "id": "TSm2VYDgA-b0"
      },
      "outputs": [],
      "source": []
    }
  ],
  "metadata": {
    "colab": {
      "provenance": []
    },
    "kernelspec": {
      "display_name": "Python 3",
      "language": "python",
      "name": "python3"
    },
    "language_info": {
      "codemirror_mode": {
        "name": "ipython",
        "version": 3
      },
      "file_extension": ".py",
      "mimetype": "text/x-python",
      "name": "python",
      "nbconvert_exporter": "python",
      "pygments_lexer": "ipython3",
      "version": "3.12.7"
    }
  },
  "nbformat": 4,
  "nbformat_minor": 5
}
